{
  "nbformat": 4,
  "nbformat_minor": 0,
  "metadata": {
    "colab": {
      "name": "CervicalCancerLogisticRegression.ipynb",
      "provenance": [],
      "toc_visible": true,
      "authorship_tag": "ABX9TyMotKelpSWiNFoF5LSSVpLd",
      "include_colab_link": true
    },
    "kernelspec": {
      "name": "python3",
      "display_name": "Python 3"
    },
    "language_info": {
      "name": "python"
    }
  },
  "cells": [
    {
      "cell_type": "markdown",
      "metadata": {
        "id": "view-in-github",
        "colab_type": "text"
      },
      "source": [
        "<a href=\"https://colab.research.google.com/github/PaulAlexInc/Cervical-Cancer-DataSet/blob/main/CervicalCancerLogisticRegression.ipynb\" target=\"_parent\"><img src=\"https://colab.research.google.com/assets/colab-badge.svg\" alt=\"Open In Colab\"/></a>"
      ]
    },
    {
      "cell_type": "markdown",
      "metadata": {
        "id": "hHrF5wB2oIzP"
      },
      "source": [
        "## Reading the cleaned dataset\n",
        "\n"
      ]
    },
    {
      "cell_type": "code",
      "metadata": {
        "id": "jocAAkyfX95t"
      },
      "source": [
        "import pandas as pd\n",
        "import seaborn as sns\n",
        "import numpy as np\n",
        "from sklearn.preprocessing import StandardScaler\n",
        "from sklearn.model_selection import train_test_split\n",
        "from sklearn.linear_model import LogisticRegression\n",
        "from sklearn.metrics import confusion_matrix\n",
        "from sklearn.metrics import precision_recall_fscore_support # gives the precision, recall and fscore, all at once\n",
        "from pickle import dump # helps us to dump or save these models and scalers"
      ],
      "execution_count": null,
      "outputs": []
    },
    {
      "cell_type": "code",
      "metadata": {
        "colab": {
          "base_uri": "https://localhost:8080/",
          "height": 266
        },
        "id": "IC7xAAY_oeRo",
        "outputId": "e6698ddb-e9bd-429b-a2f1-24e865e67fa9"
      },
      "source": [
        "data=pd.read_csv(\"CervicalCancer_Cleaned\")\n",
        "data.head()"
      ],
      "execution_count": null,
      "outputs": [
        {
          "output_type": "execute_result",
          "data": {
            "text/html": [
              "<div>\n",
              "<style scoped>\n",
              "    .dataframe tbody tr th:only-of-type {\n",
              "        vertical-align: middle;\n",
              "    }\n",
              "\n",
              "    .dataframe tbody tr th {\n",
              "        vertical-align: top;\n",
              "    }\n",
              "\n",
              "    .dataframe thead th {\n",
              "        text-align: right;\n",
              "    }\n",
              "</style>\n",
              "<table border=\"1\" class=\"dataframe\">\n",
              "  <thead>\n",
              "    <tr style=\"text-align: right;\">\n",
              "      <th></th>\n",
              "      <th>Age</th>\n",
              "      <th>Number of sexual partners</th>\n",
              "      <th>First sexual intercourse</th>\n",
              "      <th>Num of pregnancies</th>\n",
              "      <th>Smokes</th>\n",
              "      <th>Smokes (years)</th>\n",
              "      <th>Smokes (packs/year)</th>\n",
              "      <th>Hormonal Contraceptives</th>\n",
              "      <th>Hormonal Contraceptives (years)</th>\n",
              "      <th>IUD</th>\n",
              "      <th>IUD (years)</th>\n",
              "      <th>STDs</th>\n",
              "      <th>STDs (number)</th>\n",
              "      <th>STDs:condylomatosis</th>\n",
              "      <th>STDs:vaginal condylomatosis</th>\n",
              "      <th>STDs:vulvo-perineal condylomatosis</th>\n",
              "      <th>STDs:syphilis</th>\n",
              "      <th>STDs:pelvic inflammatory disease</th>\n",
              "      <th>STDs:genital herpes</th>\n",
              "      <th>STDs:molluscum contagiosum</th>\n",
              "      <th>STDs:HIV</th>\n",
              "      <th>STDs:Hepatitis B</th>\n",
              "      <th>STDs:HPV</th>\n",
              "      <th>STDs: Number of diagnosis</th>\n",
              "      <th>Dx:Cancer</th>\n",
              "      <th>Dx:CIN</th>\n",
              "      <th>Dx:HPV</th>\n",
              "      <th>Dx</th>\n",
              "      <th>Hinselmann</th>\n",
              "      <th>Schiller</th>\n",
              "      <th>Citology</th>\n",
              "      <th>Biopsy</th>\n",
              "    </tr>\n",
              "  </thead>\n",
              "  <tbody>\n",
              "    <tr>\n",
              "      <th>0</th>\n",
              "      <td>18.0</td>\n",
              "      <td>4.0</td>\n",
              "      <td>15.0</td>\n",
              "      <td>1.0</td>\n",
              "      <td>False</td>\n",
              "      <td>0.0</td>\n",
              "      <td>0.0</td>\n",
              "      <td>False</td>\n",
              "      <td>0.0</td>\n",
              "      <td>False</td>\n",
              "      <td>0.0</td>\n",
              "      <td>False</td>\n",
              "      <td>0.0</td>\n",
              "      <td>False</td>\n",
              "      <td>False</td>\n",
              "      <td>False</td>\n",
              "      <td>False</td>\n",
              "      <td>False</td>\n",
              "      <td>False</td>\n",
              "      <td>False</td>\n",
              "      <td>False</td>\n",
              "      <td>False</td>\n",
              "      <td>False</td>\n",
              "      <td>0.0</td>\n",
              "      <td>False</td>\n",
              "      <td>False</td>\n",
              "      <td>False</td>\n",
              "      <td>False</td>\n",
              "      <td>False</td>\n",
              "      <td>False</td>\n",
              "      <td>False</td>\n",
              "      <td>False</td>\n",
              "    </tr>\n",
              "    <tr>\n",
              "      <th>1</th>\n",
              "      <td>15.0</td>\n",
              "      <td>1.0</td>\n",
              "      <td>14.0</td>\n",
              "      <td>1.0</td>\n",
              "      <td>False</td>\n",
              "      <td>0.0</td>\n",
              "      <td>0.0</td>\n",
              "      <td>False</td>\n",
              "      <td>0.0</td>\n",
              "      <td>False</td>\n",
              "      <td>0.0</td>\n",
              "      <td>False</td>\n",
              "      <td>0.0</td>\n",
              "      <td>False</td>\n",
              "      <td>False</td>\n",
              "      <td>False</td>\n",
              "      <td>False</td>\n",
              "      <td>False</td>\n",
              "      <td>False</td>\n",
              "      <td>False</td>\n",
              "      <td>False</td>\n",
              "      <td>False</td>\n",
              "      <td>False</td>\n",
              "      <td>0.0</td>\n",
              "      <td>False</td>\n",
              "      <td>False</td>\n",
              "      <td>False</td>\n",
              "      <td>False</td>\n",
              "      <td>False</td>\n",
              "      <td>False</td>\n",
              "      <td>False</td>\n",
              "      <td>False</td>\n",
              "    </tr>\n",
              "    <tr>\n",
              "      <th>2</th>\n",
              "      <td>34.0</td>\n",
              "      <td>1.0</td>\n",
              "      <td>25.0</td>\n",
              "      <td>1.0</td>\n",
              "      <td>False</td>\n",
              "      <td>0.0</td>\n",
              "      <td>0.0</td>\n",
              "      <td>False</td>\n",
              "      <td>0.0</td>\n",
              "      <td>False</td>\n",
              "      <td>0.0</td>\n",
              "      <td>False</td>\n",
              "      <td>0.0</td>\n",
              "      <td>False</td>\n",
              "      <td>False</td>\n",
              "      <td>False</td>\n",
              "      <td>False</td>\n",
              "      <td>False</td>\n",
              "      <td>False</td>\n",
              "      <td>False</td>\n",
              "      <td>False</td>\n",
              "      <td>False</td>\n",
              "      <td>False</td>\n",
              "      <td>0.0</td>\n",
              "      <td>False</td>\n",
              "      <td>False</td>\n",
              "      <td>False</td>\n",
              "      <td>False</td>\n",
              "      <td>False</td>\n",
              "      <td>False</td>\n",
              "      <td>False</td>\n",
              "      <td>False</td>\n",
              "    </tr>\n",
              "    <tr>\n",
              "      <th>3</th>\n",
              "      <td>52.0</td>\n",
              "      <td>5.0</td>\n",
              "      <td>16.0</td>\n",
              "      <td>4.0</td>\n",
              "      <td>True</td>\n",
              "      <td>37.0</td>\n",
              "      <td>37.0</td>\n",
              "      <td>True</td>\n",
              "      <td>3.0</td>\n",
              "      <td>False</td>\n",
              "      <td>0.0</td>\n",
              "      <td>False</td>\n",
              "      <td>0.0</td>\n",
              "      <td>False</td>\n",
              "      <td>False</td>\n",
              "      <td>False</td>\n",
              "      <td>False</td>\n",
              "      <td>False</td>\n",
              "      <td>False</td>\n",
              "      <td>False</td>\n",
              "      <td>False</td>\n",
              "      <td>False</td>\n",
              "      <td>False</td>\n",
              "      <td>0.0</td>\n",
              "      <td>True</td>\n",
              "      <td>False</td>\n",
              "      <td>True</td>\n",
              "      <td>False</td>\n",
              "      <td>False</td>\n",
              "      <td>False</td>\n",
              "      <td>False</td>\n",
              "      <td>False</td>\n",
              "    </tr>\n",
              "    <tr>\n",
              "      <th>4</th>\n",
              "      <td>46.0</td>\n",
              "      <td>3.0</td>\n",
              "      <td>21.0</td>\n",
              "      <td>4.0</td>\n",
              "      <td>False</td>\n",
              "      <td>0.0</td>\n",
              "      <td>0.0</td>\n",
              "      <td>True</td>\n",
              "      <td>15.0</td>\n",
              "      <td>False</td>\n",
              "      <td>0.0</td>\n",
              "      <td>False</td>\n",
              "      <td>0.0</td>\n",
              "      <td>False</td>\n",
              "      <td>False</td>\n",
              "      <td>False</td>\n",
              "      <td>False</td>\n",
              "      <td>False</td>\n",
              "      <td>False</td>\n",
              "      <td>False</td>\n",
              "      <td>False</td>\n",
              "      <td>False</td>\n",
              "      <td>False</td>\n",
              "      <td>0.0</td>\n",
              "      <td>False</td>\n",
              "      <td>False</td>\n",
              "      <td>False</td>\n",
              "      <td>False</td>\n",
              "      <td>False</td>\n",
              "      <td>False</td>\n",
              "      <td>False</td>\n",
              "      <td>False</td>\n",
              "    </tr>\n",
              "  </tbody>\n",
              "</table>\n",
              "</div>"
            ],
            "text/plain": [
              "    Age  Number of sexual partners  ...  Citology  Biopsy\n",
              "0  18.0                        4.0  ...     False   False\n",
              "1  15.0                        1.0  ...     False   False\n",
              "2  34.0                        1.0  ...     False   False\n",
              "3  52.0                        5.0  ...     False   False\n",
              "4  46.0                        3.0  ...     False   False\n",
              "\n",
              "[5 rows x 32 columns]"
            ]
          },
          "metadata": {
            "tags": []
          },
          "execution_count": 5
        }
      ]
    },
    {
      "cell_type": "code",
      "metadata": {
        "colab": {
          "base_uri": "https://localhost:8080/"
        },
        "id": "EfuXFetho2UY",
        "outputId": "c18f3c63-53f7-4816-e23d-4228ddfb061d"
      },
      "source": [
        "data.shape"
      ],
      "execution_count": null,
      "outputs": [
        {
          "output_type": "execute_result",
          "data": {
            "text/plain": [
              "(858, 32)"
            ]
          },
          "metadata": {
            "tags": []
          },
          "execution_count": 6
        }
      ]
    },
    {
      "cell_type": "markdown",
      "metadata": {
        "id": "Vpf5QMD8p-C2"
      },
      "source": [
        "What is our target variable??<br>\n",
        "\n",
        "According to the website, these are the 4 target variables<br>\n",
        "\n",
        "(bool) Hinselmann: target variable<br>\n",
        "(bool) Schiller: target variable<br>\n",
        "(bool) Cytology: target variable<br>\n",
        "(bool) Biopsy: target variable<br>\n",
        "\n",
        "Let us consider one of these as our target variable now<br>\n",
        "\n",
        "We'll consider Biopsy as our target variable which has two categories 0 and 1, where 1 represents that the woman has cancer and 0 represents that the woman does not have cancer<br>\n",
        "\n",
        "\n"
      ]
    },
    {
      "cell_type": "markdown",
      "metadata": {
        "id": "7cHEYMSZq4y1"
      },
      "source": [
        "At this point what if we wanted to use all these variables as our target variables, what if we wanted to predict the categories of all these 4 variables??<br>\n",
        "\n",
        "What could we have done in that case?<br>\n",
        "What we could have done is, we could have used a 1 vs rest classifier:<br> \n",
        "We have 4 target variables:<br>\n",
        "(bool) Hinselmann: target variable<br>\n",
        "(bool) Schiller: target variable<br>\n",
        "(bool) Cytology: target variable<br>\n",
        "(bool) Biopsy: target variable<br>\n",
        "\n",
        "What the 1 vs rest classifier would do is that, consider (bool) Hinselmann: target variable as 1 class and the rest of the variables as the restr of the variables as another class, apply logistic regression and then give the output<br>\n",
        "\n",
        "In the second case when it is predicting the output for (bool) Schiller: target variable, what it will do is consider this particular variable as 1 class and the other 3 as another class and give the output<br>\n",
        "\n",
        "So it fits in our definition of logistic regression of giving binary output or binary classes.<br>\n",
        "\n",
        "So just for our purpose, we'll only consider biopsy as our target variable, so we can remove the other three<br>\n"
      ]
    },
    {
      "cell_type": "code",
      "metadata": {
        "colab": {
          "base_uri": "https://localhost:8080/"
        },
        "id": "RzLBLDpntTJf",
        "outputId": "ae282081-a6c0-43f0-a066-025d3a66a762"
      },
      "source": [
        "data.columns"
      ],
      "execution_count": null,
      "outputs": [
        {
          "output_type": "execute_result",
          "data": {
            "text/plain": [
              "Index(['Age', 'Number of sexual partners', 'First sexual intercourse',\n",
              "       'Num of pregnancies', 'Smokes', 'Smokes (years)', 'Smokes (packs/year)',\n",
              "       'Hormonal Contraceptives', 'Hormonal Contraceptives (years)', 'IUD',\n",
              "       'IUD (years)', 'STDs', 'STDs (number)', 'STDs:condylomatosis',\n",
              "       'STDs:vaginal condylomatosis', 'STDs:vulvo-perineal condylomatosis',\n",
              "       'STDs:syphilis', 'STDs:pelvic inflammatory disease',\n",
              "       'STDs:genital herpes', 'STDs:molluscum contagiosum', 'STDs:HIV',\n",
              "       'STDs:Hepatitis B', 'STDs:HPV', 'STDs: Number of diagnosis',\n",
              "       'Dx:Cancer', 'Dx:CIN', 'Dx:HPV', 'Dx', 'Hinselmann', 'Schiller',\n",
              "       'Citology', 'Biopsy'],\n",
              "      dtype='object')"
            ]
          },
          "metadata": {
            "tags": []
          },
          "execution_count": 7
        }
      ]
    },
    {
      "cell_type": "code",
      "metadata": {
        "id": "SeMDUL53pNW-"
      },
      "source": [
        "data.drop(['Hinselmann', 'Schiller',\n",
        "       'Citology'], axis =1, inplace=True)\n",
        "\n"
      ],
      "execution_count": null,
      "outputs": []
    },
    {
      "cell_type": "code",
      "metadata": {
        "colab": {
          "base_uri": "https://localhost:8080/"
        },
        "id": "93DMY5pptw08",
        "outputId": "f58d2c5c-9f64-4569-ae04-fe5fd16210f3"
      },
      "source": [
        "data.shape"
      ],
      "execution_count": null,
      "outputs": [
        {
          "output_type": "execute_result",
          "data": {
            "text/plain": [
              "(858, 29)"
            ]
          },
          "metadata": {
            "tags": []
          },
          "execution_count": 9
        }
      ]
    },
    {
      "cell_type": "markdown",
      "metadata": {
        "id": "MZ3sQqZpukMW"
      },
      "source": [
        "## Preprocessing"
      ]
    },
    {
      "cell_type": "markdown",
      "metadata": {
        "id": "8HqXciWe_HRs"
      },
      "source": [
        "## Data Encoding"
      ]
    },
    {
      "cell_type": "code",
      "metadata": {
        "colab": {
          "base_uri": "https://localhost:8080/"
        },
        "id": "zk2M2K1tt7Jd",
        "outputId": "af71b06a-f6d5-42ad-f7ed-cf91e6a9dc7d"
      },
      "source": [
        "for uni in data.columns:\n",
        "  print(uni)\n",
        "  print(data[uni].unique())"
      ],
      "execution_count": null,
      "outputs": [
        {
          "output_type": "stream",
          "text": [
            "Age\n",
            "[18. 15. 34. 52. 46. 42. 51. 26. 45. 44. 27. 43. 40. 41. 39. 37. 38. 36.\n",
            " 35. 33. 31. 32. 30. 23. 28. 29. 20. 25. 21. 24. 22. 48. 19. 17. 16. 14.\n",
            " 59. 79. 84. 47. 13. 70. 50. 49.]\n",
            "Number of sexual partners\n",
            "[ 4.  1.  5.  3.  2.  6. 25.  7. 15.  8. 10. 28.  9.]\n",
            "First sexual intercourse\n",
            "[15. 14. 25. 16. 21. 23. 17. 26. 20. 18. 27. 19. 24. 32. 13. 29. 11. 12.\n",
            " 22. 28. 10.]\n",
            "Num of pregnancies\n",
            "[ 1.  4.  2.  6.  3.  5. 25.  8.  7.  0. 11. 10.]\n",
            "Smokes\n",
            "[False  True]\n",
            "Smokes (years)\n",
            "[ 0.         37.         34.          1.26697291  3.         12.\n",
            " 25.         18.          7.         19.         21.         15.\n",
            " 13.         16.          8.          4.         10.         22.\n",
            " 14.          0.5        11.          9.          2.          5.\n",
            "  6.          1.         32.         24.         28.         20.\n",
            "  0.16      ]\n",
            "Smokes (packs/year)\n",
            "[0.00000000e+00 3.70000000e+01 3.40000000e+00 2.80000000e+00\n",
            " 4.00000000e-02 5.13202128e-01 2.40000000e+00 6.00000000e+00\n",
            " 2.50000000e+01 9.00000000e+00 1.60000000e+00 1.90000000e+01\n",
            " 2.10000000e+01 3.20000000e-01 2.60000000e+00 8.00000000e-01\n",
            " 1.50000000e+01 2.00000000e+00 5.70000000e+00 1.00000000e+00\n",
            " 3.30000000e+00 3.50000000e+00 1.20000000e+01 2.50000000e-02\n",
            " 2.75000000e+00 2.00000000e-01 1.40000000e+00 5.00000000e+00\n",
            " 2.10000000e+00 7.00000000e-01 1.20000000e+00 7.50000000e+00\n",
            " 1.25000000e+00 3.00000000e+00 7.50000000e-01 1.00000000e-01\n",
            " 8.00000000e+00 2.25000000e+00 3.00000000e-03 7.00000000e+00\n",
            " 4.50000000e-01 1.50000000e-01 5.00000000e-02 2.50000000e-01\n",
            " 4.80000000e+00 4.50000000e+00 4.00000000e-01 3.70000000e-01\n",
            " 2.20000000e+00 1.60000000e-01 9.00000000e-01 2.20000000e+01\n",
            " 1.35000000e+00 5.00000000e-01 2.50000000e+00 4.00000000e+00\n",
            " 1.30000000e+00 1.65000000e+00 2.70000000e+00 1.00000000e-03\n",
            " 7.60000000e+00 5.50000000e+00 3.00000000e-01]\n",
            "Hormonal Contraceptives\n",
            "[False  True]\n",
            "Hormonal Contraceptives (years)\n",
            "[ 0.          3.         15.          2.          8.         10.\n",
            "  5.          0.25        7.         22.         19.          0.5\n",
            "  1.          0.58        9.         13.         11.          4.\n",
            " 12.         16.          0.33       25.          0.16       14.\n",
            "  0.08        2.28220052  0.66        6.          1.5         0.42\n",
            "  0.67        0.75        2.5         4.5         6.5         0.17\n",
            " 20.          3.5         0.41       30.         17.        ]\n",
            "IUD\n",
            "[False  True]\n",
            "IUD (years)\n",
            "[ 0.    7.   25.    5.    8.    6.    1.    0.58  2.   19.    0.5  17.\n",
            "  0.08  0.25 10.   11.    3.   15.   12.    9.    1.5   0.91  4.    0.33\n",
            "  0.41  0.16  0.17]\n",
            "STDs\n",
            "[False  True]\n",
            "STDs (number)\n",
            "[ 0.  2.  1. 25.  3.  4.]\n",
            "STDs:condylomatosis\n",
            "[False  True]\n",
            "STDs:vaginal condylomatosis\n",
            "[False  True]\n",
            "STDs:vulvo-perineal condylomatosis\n",
            "[False  True]\n",
            "STDs:syphilis\n",
            "[False  True]\n",
            "STDs:pelvic inflammatory disease\n",
            "[False  True]\n",
            "STDs:genital herpes\n",
            "[False  True]\n",
            "STDs:molluscum contagiosum\n",
            "[False  True]\n",
            "STDs:HIV\n",
            "[False  True]\n",
            "STDs:Hepatitis B\n",
            "[False  True]\n",
            "STDs:HPV\n",
            "[False  True]\n",
            "STDs: Number of diagnosis\n",
            "[0. 1. 3. 2.]\n",
            "Dx:Cancer\n",
            "[False  True]\n",
            "Dx:CIN\n",
            "[False  True]\n",
            "Dx:HPV\n",
            "[False  True]\n",
            "Dx\n",
            "[False  True]\n",
            "Biopsy\n",
            "[False  True]\n"
          ],
          "name": "stdout"
        }
      ]
    },
    {
      "cell_type": "markdown",
      "metadata": {
        "id": "1-aV1mpK9rY-"
      },
      "source": [
        "Although data encoding is a step that we follow in machine learning schema, it might not always be necessary, it depends on our dataset and depending on our dataset, we may not need to perform data encoding.<br>\n",
        "\n",
        "Here all categorical values have only true and false values. Since no multiple categories are present, we need not perform encoding<br> "
      ]
    },
    {
      "cell_type": "markdown",
      "metadata": {
        "id": "lUi1enUfAhZr"
      },
      "source": [
        "## Distribution of classes in the target variable"
      ]
    },
    {
      "cell_type": "markdown",
      "metadata": {
        "id": "hSojQp7hAPpC"
      },
      "source": [
        "Check whether the distribution is a case of balanced or imbalanced classification"
      ]
    },
    {
      "cell_type": "code",
      "metadata": {
        "colab": {
          "base_uri": "https://localhost:8080/"
        },
        "id": "l8yEqArwAqgY",
        "outputId": "bb6ce2d7-6013-455b-f8c0-65b858d8b278"
      },
      "source": [
        "data['Biopsy'].value_counts() # gives the count of the two classes that are present"
      ],
      "execution_count": null,
      "outputs": [
        {
          "output_type": "execute_result",
          "data": {
            "text/plain": [
              "False    803\n",
              "True      55\n",
              "Name: Biopsy, dtype: int64"
            ]
          },
          "metadata": {
            "tags": []
          },
          "execution_count": 11
        }
      ]
    },
    {
      "cell_type": "markdown",
      "metadata": {
        "id": "WXfjaiDfBLDL"
      },
      "source": [
        "Out of 858 rows of data, 55 belong to the class true and 803 belong to the class false "
      ]
    },
    {
      "cell_type": "markdown",
      "metadata": {
        "id": "gJX2QXEUCz_y"
      },
      "source": [
        "Another way of giving this information is through a visualisation, or a plot"
      ]
    },
    {
      "cell_type": "code",
      "metadata": {
        "colab": {
          "base_uri": "https://localhost:8080/",
          "height": 296
        },
        "id": "ElEZ9i-jBKZN",
        "outputId": "d17e81c1-1e54-4759-d027-85992af59b95"
      },
      "source": [
        "sns.countplot(data=data, x='Biopsy')"
      ],
      "execution_count": null,
      "outputs": [
        {
          "output_type": "execute_result",
          "data": {
            "text/plain": [
              "<matplotlib.axes._subplots.AxesSubplot at 0x7f552049c790>"
            ]
          },
          "metadata": {
            "tags": []
          },
          "execution_count": 12
        },
        {
          "output_type": "display_data",
          "data": {
            "image/png": "[encoded data removed]",
            "text/plain": [
              "<Figure size 432x288 with 1 Axes>"
            ]
          },
          "metadata": {
            "tags": [],
            "needs_background": "light"
          }
        }
      ]
    },
    {
      "cell_type": "markdown",
      "metadata": {
        "id": "YxfMCzkIDR6w"
      },
      "source": [
        "This is a case of IMBALANCED classification"
      ]
    },
    {
      "cell_type": "code",
      "metadata": {
        "colab": {
          "base_uri": "https://localhost:8080/"
        },
        "id": "IKI1sQoRDls6",
        "outputId": "5c44c2f5-bac4-4e62-c5f8-f9f11c8b0057"
      },
      "source": [
        "803/(803+55)"
      ],
      "execution_count": null,
      "outputs": [
        {
          "output_type": "execute_result",
          "data": {
            "text/plain": [
              "0.9358974358974359"
            ]
          },
          "metadata": {
            "tags": []
          },
          "execution_count": 13
        }
      ]
    },
    {
      "cell_type": "markdown",
      "metadata": {
        "id": "TVS1Vp33DrGS"
      },
      "source": [
        "Almost 94% of the data belongs to class false whereas only 6% belongs to the class true"
      ]
    },
    {
      "cell_type": "markdown",
      "metadata": {
        "id": "gXYUvDjd_K6R"
      },
      "source": [
        "## Making the predictor and target variables"
      ]
    },
    {
      "cell_type": "code",
      "metadata": {
        "id": "qOFFoCdKvi9t"
      },
      "source": [
        "x=data.drop(['Biopsy'], axis =1)\n",
        "y=data['Biopsy']"
      ],
      "execution_count": null,
      "outputs": []
    },
    {
      "cell_type": "code",
      "metadata": {
        "colab": {
          "base_uri": "https://localhost:8080/"
        },
        "id": "-WOaYvoEFEbn",
        "outputId": "7cc3ec15-154f-438b-94c6-b83491301671"
      },
      "source": [
        "# printing the shape of predictor and target variables\n",
        "print(x.shape)\n",
        "print(y.shape)"
      ],
      "execution_count": null,
      "outputs": [
        {
          "output_type": "stream",
          "text": [
            "(858, 28)\n",
            "(858,)\n"
          ],
          "name": "stdout"
        }
      ]
    },
    {
      "cell_type": "code",
      "metadata": {
        "colab": {
          "base_uri": "https://localhost:8080/",
          "height": 162
        },
        "id": "3niGgGwrYV1G",
        "outputId": "e842e9cf-1d3c-400d-fc20-6d0fc4fd07ff"
      },
      "source": [
        "x.iloc[0].values.astype('float')"
      ],
      "execution_count": null,
      "outputs": [
        {
          "output_type": "error",
          "ename": "AttributeError",
          "evalue": "ignored",
          "traceback": [
            "\u001b[0;31m---------------------------------------------------------------------------\u001b[0m",
            "\u001b[0;31mAttributeError\u001b[0m                            Traceback (most recent call last)",
            "\u001b[0;32m<ipython-input-49-b4d93470d146>\u001b[0m in \u001b[0;36m<module>\u001b[0;34m()\u001b[0m\n\u001b[0;32m----> 1\u001b[0;31m \u001b[0mx\u001b[0m\u001b[0;34m.\u001b[0m\u001b[0miloc\u001b[0m\u001b[0;34m[\u001b[0m\u001b[0;36m0\u001b[0m\u001b[0;34m]\u001b[0m\u001b[0;34m.\u001b[0m\u001b[0mvalues\u001b[0m\u001b[0;34m.\u001b[0m\u001b[0mastype\u001b[0m\u001b[0;34m(\u001b[0m\u001b[0;34m'float'\u001b[0m\u001b[0;34m)\u001b[0m\u001b[0;34m\u001b[0m\u001b[0;34m\u001b[0m\u001b[0m\n\u001b[0m",
            "\u001b[0;31mAttributeError\u001b[0m: 'numpy.ndarray' object has no attribute 'iloc'"
          ]
        }
      ]
    },
    {
      "cell_type": "markdown",
      "metadata": {
        "id": "t9hUgV4-FsTU"
      },
      "source": [
        "# Data Scaling\n"
      ]
    },
    {
      "cell_type": "markdown",
      "metadata": {
        "id": "cLxG8722HZFY"
      },
      "source": [
        "we don't have to scale the target variable since it is categorical in nature.<br>\n",
        "Do we have to scale the categorical predictor variables? Yes, we do have to scale them.How it works is that all the true values get scaled to one value, say, A and all the false values get scaled down to one specific value B. So whenever the  variable takes the value true, A will be present, whenever the variable takes the value false, B will be present.<br>\n",
        "So in classification cases we only scale the predictor dataframe and not the target dataframe"
      ]
    },
    {
      "cell_type": "code",
      "metadata": {
        "id": "UMY2kM42IMPl"
      },
      "source": [
        "scaler_x=StandardScaler().fit(x)\n"
      ],
      "execution_count": null,
      "outputs": []
    },
    {
      "cell_type": "code",
      "metadata": {
        "id": "Z6ac2P-7Fbtf"
      },
      "source": [
        "x=scaler.transform(x)"
      ],
      "execution_count": null,
      "outputs": []
    },
    {
      "cell_type": "code",
      "metadata": {
        "id": "6bvY4NdTQXf6"
      },
      "source": [
        "dump(scaler_x, open('scaler_x_logreg.pkl','wb'))"
      ],
      "execution_count": null,
      "outputs": []
    },
    {
      "cell_type": "code",
      "metadata": {
        "colab": {
          "base_uri": "https://localhost:8080/"
        },
        "id": "pRsHbk5uIJ4Q",
        "outputId": "56c9350a-e7c2-4b50-b83d-f1926da5d61c"
      },
      "source": [
        "x[0]"
      ],
      "execution_count": null,
      "outputs": [
        {
          "output_type": "execute_result",
          "data": {
            "text/plain": [
              "array([-1.03856336,  0.18899462, -0.71507369, -0.47691956, -0.4090806 ,\n",
              "       -0.3167311 , -0.22155443, -1.47972669, -0.61501755, -0.32725643,\n",
              "       -0.44840262, -0.31845261, -0.39430742, -0.23249528, -0.06843859,\n",
              "       -0.22969705, -0.14638501, -0.03415935, -0.03415935, -0.03415935,\n",
              "       -0.14638501, -0.03415935, -0.04833682, -0.28909302, -0.14638501,\n",
              "       -0.10295973, -0.14638501, -0.16963779])"
            ]
          },
          "metadata": {
            "tags": []
          },
          "execution_count": 18
        }
      ]
    },
    {
      "cell_type": "markdown",
      "metadata": {
        "id": "dYE49WkJIXIn"
      },
      "source": [
        "# Data Splitting"
      ]
    },
    {
      "cell_type": "code",
      "metadata": {
        "id": "UcDP6owvIVTA"
      },
      "source": [
        "x_train,x_test,y_train,y_test=train_test_split(x, y, test_size=0.3, random_state=42)"
      ],
      "execution_count": null,
      "outputs": []
    },
    {
      "cell_type": "code",
      "metadata": {
        "id": "RdMMagrQI-Dw"
      },
      "source": [
        "# check the distribution of classes in the train and test set and check whether it stays more or less same or comparatable to thr entire data or not"
      ],
      "execution_count": null,
      "outputs": []
    },
    {
      "cell_type": "code",
      "metadata": {
        "colab": {
          "base_uri": "https://localhost:8080/"
        },
        "id": "BLWUuDwEJUSX",
        "outputId": "abd755ae-9be2-43b0-86c5-037624bd13ee"
      },
      "source": [
        "y_train.value_counts()"
      ],
      "execution_count": null,
      "outputs": [
        {
          "output_type": "execute_result",
          "data": {
            "text/plain": [
              "False    560\n",
              "True      40\n",
              "Name: Biopsy, dtype: int64"
            ]
          },
          "metadata": {
            "tags": []
          },
          "execution_count": 21
        }
      ]
    },
    {
      "cell_type": "code",
      "metadata": {
        "colab": {
          "base_uri": "https://localhost:8080/"
        },
        "id": "YvRxoXmVJZJG",
        "outputId": "2bc6fb92-776d-4372-8193-f2e8502e6731"
      },
      "source": [
        "560/(560+40)"
      ],
      "execution_count": null,
      "outputs": [
        {
          "output_type": "execute_result",
          "data": {
            "text/plain": [
              "0.9333333333333333"
            ]
          },
          "metadata": {
            "tags": []
          },
          "execution_count": 22
        }
      ]
    },
    {
      "cell_type": "markdown",
      "metadata": {
        "id": "MF4gHxDwJjcN"
      },
      "source": [
        "In the training set 93% of the data belongs to class false and 7% to true which is approximately the same as the previous case(i.e the distribution of the entire dataset)"
      ]
    },
    {
      "cell_type": "code",
      "metadata": {
        "colab": {
          "base_uri": "https://localhost:8080/"
        },
        "id": "XdJZ84tsJgk4",
        "outputId": "0552b048-0890-404c-fdf8-15867366585b"
      },
      "source": [
        "# distribution in the test set\n",
        "y_test.value_counts()"
      ],
      "execution_count": null,
      "outputs": [
        {
          "output_type": "execute_result",
          "data": {
            "text/plain": [
              "False    243\n",
              "True      15\n",
              "Name: Biopsy, dtype: int64"
            ]
          },
          "metadata": {
            "tags": []
          },
          "execution_count": 23
        }
      ]
    },
    {
      "cell_type": "code",
      "metadata": {
        "colab": {
          "base_uri": "https://localhost:8080/"
        },
        "id": "Zczh5SRKKFdI",
        "outputId": "c10fa6e4-ac37-46bc-97ee-4aa25b0a90f4"
      },
      "source": [
        "243/(243+15)"
      ],
      "execution_count": null,
      "outputs": [
        {
          "output_type": "execute_result",
          "data": {
            "text/plain": [
              "0.9418604651162791"
            ]
          },
          "metadata": {
            "tags": []
          },
          "execution_count": 24
        }
      ]
    },
    {
      "cell_type": "markdown",
      "metadata": {
        "id": "QBzdq26-KPMO"
      },
      "source": [
        "We again get 94% and 6% so this should happen, we need to keep a check that the distribution of the two classes stays approximately the same in the train and the test set, it should not happen that in the original datset the ratio was 94 : 6 and in the test dataset it is 97:3, that will lead to errors"
      ]
    },
    {
      "cell_type": "markdown",
      "metadata": {
        "id": "uLGFPn7DK3VW"
      },
      "source": [
        "#Baseline model"
      ]
    },
    {
      "cell_type": "markdown",
      "metadata": {
        "id": "Otjs2YrNMzzB"
      },
      "source": [
        "If we have a no classification model or a model that predicts all the values to belong to the class False, even then what is the classifcation that we get."
      ]
    },
    {
      "cell_type": "markdown",
      "metadata": {
        "id": "mcTPh0MOLleL"
      },
      "source": [
        "Baseline model doesn't have relevance in case of an imbalanced classification because accuracy is not a measure in such cases.<br>\n",
        "\n",
        "The usual way of defining a baseline model is to consider a model which predicts the value to be equal to the majority class<br>\n",
        "\n",
        "Here, in the training dataset, the two classes, majority and minority (-ve and positive) are present in the ratio of 93:7. So, the baseline model in this case is 93% because when it predicts all values to belong to the negative class, it still makes 93% correct predictions owing to the class distribution.\n"
      ]
    },
    {
      "cell_type": "markdown",
      "metadata": {
        "id": "lvALPX_D1M2t"
      },
      "source": [
        "# Logistic Regression with all the variables"
      ]
    },
    {
      "cell_type": "code",
      "metadata": {
        "id": "YtYuxfTi1E9I"
      },
      "source": [
        "model1 = LogisticRegression()"
      ],
      "execution_count": null,
      "outputs": []
    },
    {
      "cell_type": "code",
      "metadata": {
        "colab": {
          "base_uri": "https://localhost:8080/"
        },
        "id": "O4m_r-gHKKmA",
        "outputId": "f5e81f5f-a04b-4153-e5fe-ce2ae7a70448"
      },
      "source": [
        "model1.fit(x_train, y_train)"
      ],
      "execution_count": null,
      "outputs": [
        {
          "output_type": "execute_result",
          "data": {
            "text/plain": [
              "LogisticRegression(C=1.0, class_weight=None, dual=False, fit_intercept=True,\n",
              "                   intercept_scaling=1, l1_ratio=None, max_iter=100,\n",
              "                   multi_class='auto', n_jobs=None, penalty='l2',\n",
              "                   random_state=None, solver='lbfgs', tol=0.0001, verbose=0,\n",
              "                   warm_start=False)"
            ]
          },
          "metadata": {
            "tags": []
          },
          "execution_count": 26
        }
      ]
    },
    {
      "cell_type": "code",
      "metadata": {
        "id": "L-5ysGlK178m"
      },
      "source": [
        "y_pred = model1.predict(x_test)"
      ],
      "execution_count": null,
      "outputs": []
    },
    {
      "cell_type": "code",
      "metadata": {
        "colab": {
          "base_uri": "https://localhost:8080/"
        },
        "id": "Ip_4vmCg2C3E",
        "outputId": "82d4e8ba-dbbd-4231-ee7a-43525e30a0d6"
      },
      "source": [
        "y_pred"
      ],
      "execution_count": null,
      "outputs": [
        {
          "output_type": "execute_result",
          "data": {
            "text/plain": [
              "array([False, False, False, False, False, False, False, False, False,\n",
              "       False, False, False, False, False, False, False, False, False,\n",
              "       False, False, False, False, False, False, False, False, False,\n",
              "       False, False, False, False, False, False, False, False, False,\n",
              "       False, False, False, False, False, False, False, False, False,\n",
              "       False, False, False, False, False, False, False, False, False,\n",
              "       False, False, False, False, False,  True, False, False, False,\n",
              "       False, False, False, False, False, False, False, False, False,\n",
              "       False, False, False, False, False, False, False, False, False,\n",
              "       False, False, False, False, False, False, False, False, False,\n",
              "       False, False, False, False, False, False, False, False, False,\n",
              "       False, False, False, False, False, False, False, False, False,\n",
              "       False, False, False, False, False, False, False, False, False,\n",
              "       False, False, False, False, False, False, False, False, False,\n",
              "       False, False, False, False, False, False, False, False, False,\n",
              "       False, False, False, False, False, False, False, False,  True,\n",
              "       False, False, False, False, False, False, False, False, False,\n",
              "       False, False, False, False, False, False, False, False, False,\n",
              "       False, False, False, False, False, False, False, False, False,\n",
              "       False, False, False, False, False, False, False, False, False,\n",
              "       False, False, False, False, False, False, False, False, False,\n",
              "       False, False, False, False, False, False, False, False, False,\n",
              "       False, False, False, False, False, False, False, False, False,\n",
              "       False, False, False, False, False, False, False, False, False,\n",
              "       False, False, False, False, False, False, False, False, False,\n",
              "       False, False, False, False, False, False, False, False, False,\n",
              "       False, False, False, False, False, False, False, False, False,\n",
              "       False, False, False, False, False, False, False, False, False,\n",
              "       False, False, False, False, False, False])"
            ]
          },
          "metadata": {
            "tags": []
          },
          "execution_count": 28
        }
      ]
    },
    {
      "cell_type": "code",
      "metadata": {
        "colab": {
          "base_uri": "https://localhost:8080/"
        },
        "id": "Eoz6_ThK2GIf",
        "outputId": "b2259436-884f-4506-f999-afa49053da5a"
      },
      "source": [
        "#checking the probability\n",
        "model1.predict_proba(x_test)"
      ],
      "execution_count": null,
      "outputs": [
        {
          "output_type": "execute_result",
          "data": {
            "text/plain": [
              "array([[9.46989260e-01, 5.30107396e-02],\n",
              "       [9.44387917e-01, 5.56120832e-02],\n",
              "       [9.25662650e-01, 7.43373495e-02],\n",
              "       [9.52709923e-01, 4.72900775e-02],\n",
              "       [9.70752730e-01, 2.92472697e-02],\n",
              "       [9.00056615e-01, 9.99433853e-02],\n",
              "       [9.48024483e-01, 5.19755170e-02],\n",
              "       [9.54814652e-01, 4.51853476e-02],\n",
              "       [9.44198200e-01, 5.58017995e-02],\n",
              "       [9.99228383e-01, 7.71616638e-04],\n",
              "       [9.54450853e-01, 4.55491474e-02],\n",
              "       [9.45724619e-01, 5.42753810e-02],\n",
              "       [9.34336461e-01, 6.56635385e-02],\n",
              "       [9.01757610e-01, 9.82423899e-02],\n",
              "       [9.25400363e-01, 7.45996375e-02],\n",
              "       [9.35908267e-01, 6.40917332e-02],\n",
              "       [9.46388616e-01, 5.36113845e-02],\n",
              "       [9.44153096e-01, 5.58469040e-02],\n",
              "       [9.60278567e-01, 3.97214327e-02],\n",
              "       [9.52074371e-01, 4.79256292e-02],\n",
              "       [9.48589332e-01, 5.14106677e-02],\n",
              "       [9.87055510e-01, 1.29444900e-02],\n",
              "       [9.85492091e-01, 1.45079093e-02],\n",
              "       [9.42062943e-01, 5.79370568e-02],\n",
              "       [9.47864886e-01, 5.21351139e-02],\n",
              "       [9.49741873e-01, 5.02581265e-02],\n",
              "       [9.69715068e-01, 3.02849323e-02],\n",
              "       [9.47156725e-01, 5.28432746e-02],\n",
              "       [9.42734993e-01, 5.72650070e-02],\n",
              "       [8.89433391e-01, 1.10566609e-01],\n",
              "       [9.45361066e-01, 5.46389339e-02],\n",
              "       [9.35041087e-01, 6.49589127e-02],\n",
              "       [9.71838483e-01, 2.81615174e-02],\n",
              "       [9.47508257e-01, 5.24917434e-02],\n",
              "       [9.95417844e-01, 4.58215596e-03],\n",
              "       [9.84175327e-01, 1.58246726e-02],\n",
              "       [9.71468542e-01, 2.85314578e-02],\n",
              "       [9.81489865e-01, 1.85101353e-02],\n",
              "       [9.21550575e-01, 7.84494245e-02],\n",
              "       [8.98164214e-01, 1.01835786e-01],\n",
              "       [9.44181785e-01, 5.58182147e-02],\n",
              "       [9.82222969e-01, 1.77770308e-02],\n",
              "       [9.45718967e-01, 5.42810332e-02],\n",
              "       [9.88755084e-01, 1.12449160e-02],\n",
              "       [9.52598190e-01, 4.74018099e-02],\n",
              "       [9.83423251e-01, 1.65767490e-02],\n",
              "       [9.55682847e-01, 4.43171528e-02],\n",
              "       [9.65870870e-01, 3.41291297e-02],\n",
              "       [9.46781310e-01, 5.32186896e-02],\n",
              "       [8.53351042e-01, 1.46648958e-01],\n",
              "       [9.26546969e-01, 7.34530313e-02],\n",
              "       [9.52004671e-01, 4.79953287e-02],\n",
              "       [9.87060347e-01, 1.29396528e-02],\n",
              "       [9.36428464e-01, 6.35715356e-02],\n",
              "       [9.55011500e-01, 4.49885003e-02],\n",
              "       [9.46689736e-01, 5.33102637e-02],\n",
              "       [9.27679103e-01, 7.23208967e-02],\n",
              "       [9.72074044e-01, 2.79259558e-02],\n",
              "       [9.41236672e-01, 5.87633285e-02],\n",
              "       [4.84798015e-01, 5.15201985e-01],\n",
              "       [9.56499440e-01, 4.35005600e-02],\n",
              "       [9.48175713e-01, 5.18242872e-02],\n",
              "       [8.35562590e-01, 1.64437410e-01],\n",
              "       [9.56842755e-01, 4.31572452e-02],\n",
              "       [9.41528336e-01, 5.84716641e-02],\n",
              "       [9.59697938e-01, 4.03020621e-02],\n",
              "       [9.89413593e-01, 1.05864070e-02],\n",
              "       [9.50853086e-01, 4.91469140e-02],\n",
              "       [9.50007364e-01, 4.99926364e-02],\n",
              "       [9.66403097e-01, 3.35969026e-02],\n",
              "       [7.99366330e-01, 2.00633670e-01],\n",
              "       [9.67366974e-01, 3.26330264e-02],\n",
              "       [9.55475673e-01, 4.45243271e-02],\n",
              "       [9.40142944e-01, 5.98570564e-02],\n",
              "       [9.58941379e-01, 4.10586207e-02],\n",
              "       [9.00822335e-01, 9.91776651e-02],\n",
              "       [9.59617822e-01, 4.03821781e-02],\n",
              "       [9.94624807e-01, 5.37519322e-03],\n",
              "       [5.22161396e-01, 4.77838604e-01],\n",
              "       [7.12128691e-01, 2.87871309e-01],\n",
              "       [9.40445792e-01, 5.95542079e-02],\n",
              "       [9.91587100e-01, 8.41289974e-03],\n",
              "       [9.96329968e-01, 3.67003207e-03],\n",
              "       [9.57958134e-01, 4.20418656e-02],\n",
              "       [8.66427048e-01, 1.33572952e-01],\n",
              "       [9.94998441e-01, 5.00155898e-03],\n",
              "       [9.97348032e-01, 2.65196830e-03],\n",
              "       [8.19560173e-01, 1.80439827e-01],\n",
              "       [9.41289658e-01, 5.87103422e-02],\n",
              "       [9.43735810e-01, 5.62641901e-02],\n",
              "       [9.47485733e-01, 5.25142670e-02],\n",
              "       [9.60249008e-01, 3.97509920e-02],\n",
              "       [9.93497268e-01, 6.50273223e-03],\n",
              "       [8.81516372e-01, 1.18483628e-01],\n",
              "       [9.30589143e-01, 6.94108572e-02],\n",
              "       [9.38431825e-01, 6.15681746e-02],\n",
              "       [9.72635638e-01, 2.73643619e-02],\n",
              "       [9.11913439e-01, 8.80865607e-02],\n",
              "       [9.41514287e-01, 5.84857130e-02],\n",
              "       [9.48358182e-01, 5.16418180e-02],\n",
              "       [9.62709835e-01, 3.72901654e-02],\n",
              "       [9.39247688e-01, 6.07523124e-02],\n",
              "       [9.44295834e-01, 5.57041656e-02],\n",
              "       [6.67075122e-01, 3.32924878e-01],\n",
              "       [9.38335236e-01, 6.16647638e-02],\n",
              "       [9.84995516e-01, 1.50044837e-02],\n",
              "       [9.69645231e-01, 3.03547690e-02],\n",
              "       [9.58034891e-01, 4.19651087e-02],\n",
              "       [9.74426925e-01, 2.55730750e-02],\n",
              "       [9.52863270e-01, 4.71367298e-02],\n",
              "       [9.43338927e-01, 5.66610731e-02],\n",
              "       [9.48917665e-01, 5.10823348e-02],\n",
              "       [9.46030906e-01, 5.39690944e-02],\n",
              "       [9.88516993e-01, 1.14830067e-02],\n",
              "       [9.94828378e-01, 5.17162157e-03],\n",
              "       [9.41860043e-01, 5.81399567e-02],\n",
              "       [9.52109155e-01, 4.78908447e-02],\n",
              "       [9.41743626e-01, 5.82563741e-02],\n",
              "       [9.73562190e-01, 2.64378096e-02],\n",
              "       [9.46516830e-01, 5.34831704e-02],\n",
              "       [9.57110164e-01, 4.28898358e-02],\n",
              "       [9.96066355e-01, 3.93364472e-03],\n",
              "       [9.62059466e-01, 3.79405341e-02],\n",
              "       [9.54701923e-01, 4.52980772e-02],\n",
              "       [9.88187569e-01, 1.18124310e-02],\n",
              "       [9.50781284e-01, 4.92187164e-02],\n",
              "       [9.72767170e-01, 2.72328296e-02],\n",
              "       [8.83595254e-01, 1.16404746e-01],\n",
              "       [9.81018583e-01, 1.89814173e-02],\n",
              "       [9.88857925e-01, 1.11420755e-02],\n",
              "       [9.29447764e-01, 7.05522357e-02],\n",
              "       [9.66897885e-01, 3.31021146e-02],\n",
              "       [8.24720805e-01, 1.75279195e-01],\n",
              "       [9.49711212e-01, 5.02887878e-02],\n",
              "       [9.47675483e-01, 5.23245170e-02],\n",
              "       [9.43931428e-01, 5.60685720e-02],\n",
              "       [6.98230004e-01, 3.01769996e-01],\n",
              "       [9.56156659e-01, 4.38433412e-02],\n",
              "       [9.51911747e-01, 4.80882532e-02],\n",
              "       [9.45786710e-01, 5.42132903e-02],\n",
              "       [9.45130116e-01, 5.48698844e-02],\n",
              "       [9.96500024e-01, 3.49997643e-03],\n",
              "       [9.39917057e-01, 6.00829435e-02],\n",
              "       [2.58544643e-01, 7.41455357e-01],\n",
              "       [9.37538579e-01, 6.24614211e-02],\n",
              "       [9.30223804e-01, 6.97761955e-02],\n",
              "       [9.72018559e-01, 2.79814407e-02],\n",
              "       [9.86460681e-01, 1.35393187e-02],\n",
              "       [9.44879132e-01, 5.51208682e-02],\n",
              "       [9.50993047e-01, 4.90069526e-02],\n",
              "       [9.57928995e-01, 4.20710049e-02],\n",
              "       [9.88059884e-01, 1.19401155e-02],\n",
              "       [8.19933485e-01, 1.80066515e-01],\n",
              "       [9.43784977e-01, 5.62150234e-02],\n",
              "       [9.03050443e-01, 9.69495568e-02],\n",
              "       [9.64120041e-01, 3.58799591e-02],\n",
              "       [9.52523840e-01, 4.74761600e-02],\n",
              "       [8.75108758e-01, 1.24891242e-01],\n",
              "       [9.56848549e-01, 4.31514506e-02],\n",
              "       [9.80201555e-01, 1.97984453e-02],\n",
              "       [9.71199282e-01, 2.88007177e-02],\n",
              "       [9.47791600e-01, 5.22083995e-02],\n",
              "       [9.78577616e-01, 2.14223845e-02],\n",
              "       [9.63014897e-01, 3.69851030e-02],\n",
              "       [9.46520875e-01, 5.34791250e-02],\n",
              "       [8.96663261e-01, 1.03336739e-01],\n",
              "       [9.85245306e-01, 1.47546944e-02],\n",
              "       [6.14211378e-01, 3.85788622e-01],\n",
              "       [9.49972919e-01, 5.00270811e-02],\n",
              "       [9.62161994e-01, 3.78380057e-02],\n",
              "       [9.48580661e-01, 5.14193394e-02],\n",
              "       [9.90235976e-01, 9.76402371e-03],\n",
              "       [9.59237086e-01, 4.07629136e-02],\n",
              "       [9.48515677e-01, 5.14843234e-02],\n",
              "       [9.62109251e-01, 3.78907494e-02],\n",
              "       [9.86542350e-01, 1.34576497e-02],\n",
              "       [8.14716679e-01, 1.85283321e-01],\n",
              "       [9.84485160e-01, 1.55148397e-02],\n",
              "       [9.61914216e-01, 3.80857838e-02],\n",
              "       [8.56991573e-01, 1.43008427e-01],\n",
              "       [9.57887400e-01, 4.21125995e-02],\n",
              "       [9.34746051e-01, 6.52539491e-02],\n",
              "       [9.38655889e-01, 6.13441112e-02],\n",
              "       [9.50673073e-01, 4.93269273e-02],\n",
              "       [9.56748782e-01, 4.32512184e-02],\n",
              "       [9.46463881e-01, 5.35361188e-02],\n",
              "       [9.58872721e-01, 4.11272793e-02],\n",
              "       [9.51560129e-01, 4.84398711e-02],\n",
              "       [9.65856935e-01, 3.41430648e-02],\n",
              "       [9.52431916e-01, 4.75680842e-02],\n",
              "       [9.86738267e-01, 1.32617326e-02],\n",
              "       [9.30968030e-01, 6.90319700e-02],\n",
              "       [9.25041288e-01, 7.49587121e-02],\n",
              "       [9.57508662e-01, 4.24913382e-02],\n",
              "       [9.78630840e-01, 2.13691601e-02],\n",
              "       [9.50347507e-01, 4.96524933e-02],\n",
              "       [9.43025056e-01, 5.69749439e-02],\n",
              "       [9.39088945e-01, 6.09110551e-02],\n",
              "       [9.40932443e-01, 5.90675569e-02],\n",
              "       [9.48770424e-01, 5.12295761e-02],\n",
              "       [9.41814849e-01, 5.81851511e-02],\n",
              "       [9.40279613e-01, 5.97203870e-02],\n",
              "       [9.51896193e-01, 4.81038072e-02],\n",
              "       [9.18634405e-01, 8.13655955e-02],\n",
              "       [9.71480511e-01, 2.85194889e-02],\n",
              "       [9.66872022e-01, 3.31279778e-02],\n",
              "       [9.29701454e-01, 7.02985460e-02],\n",
              "       [9.56974968e-01, 4.30250321e-02],\n",
              "       [8.65884076e-01, 1.34115924e-01],\n",
              "       [9.87897731e-01, 1.21022693e-02],\n",
              "       [9.74130812e-01, 2.58691880e-02],\n",
              "       [9.74440199e-01, 2.55598010e-02],\n",
              "       [9.34102547e-01, 6.58974535e-02],\n",
              "       [9.87555240e-01, 1.24447603e-02],\n",
              "       [9.49509782e-01, 5.04902175e-02],\n",
              "       [9.53075728e-01, 4.69242723e-02],\n",
              "       [9.42484151e-01, 5.75158488e-02],\n",
              "       [9.95872879e-01, 4.12712094e-03],\n",
              "       [9.38388177e-01, 6.16118231e-02],\n",
              "       [9.55959075e-01, 4.40409254e-02],\n",
              "       [9.53062684e-01, 4.69373157e-02],\n",
              "       [9.47559742e-01, 5.24402576e-02],\n",
              "       [9.56842755e-01, 4.31572452e-02],\n",
              "       [9.39066933e-01, 6.09330668e-02],\n",
              "       [9.43025056e-01, 5.69749439e-02],\n",
              "       [8.89837808e-01, 1.10162192e-01],\n",
              "       [9.49772708e-01, 5.02272922e-02],\n",
              "       [9.60858498e-01, 3.91415016e-02],\n",
              "       [9.70395720e-01, 2.96042803e-02],\n",
              "       [9.44080530e-01, 5.59194700e-02],\n",
              "       [9.63132758e-01, 3.68672416e-02],\n",
              "       [9.71475699e-01, 2.85243014e-02],\n",
              "       [9.95283222e-01, 4.71677764e-03],\n",
              "       [9.66354818e-01, 3.36451816e-02],\n",
              "       [9.83872624e-01, 1.61273759e-02],\n",
              "       [9.45696645e-01, 5.43033551e-02],\n",
              "       [9.90311561e-01, 9.68843865e-03],\n",
              "       [9.80641980e-01, 1.93580196e-02],\n",
              "       [9.36785127e-01, 6.32148730e-02],\n",
              "       [9.41309132e-01, 5.86908676e-02],\n",
              "       [9.52866811e-01, 4.71331886e-02],\n",
              "       [9.48024483e-01, 5.19755170e-02],\n",
              "       [9.63686515e-01, 3.63134851e-02],\n",
              "       [9.35640780e-01, 6.43592203e-02],\n",
              "       [9.48225006e-01, 5.17749938e-02],\n",
              "       [9.64500432e-01, 3.54995682e-02],\n",
              "       [7.56670322e-01, 2.43329678e-01],\n",
              "       [9.78201589e-01, 2.17984109e-02],\n",
              "       [5.87982643e-01, 4.12017357e-01],\n",
              "       [9.77653970e-01, 2.23460298e-02],\n",
              "       [9.46604992e-01, 5.33950076e-02],\n",
              "       [8.99041774e-01, 1.00958226e-01],\n",
              "       [9.15970565e-01, 8.40294350e-02],\n",
              "       [9.37859133e-01, 6.21408669e-02],\n",
              "       [9.88389804e-01, 1.16101958e-02],\n",
              "       [9.66679218e-01, 3.33207818e-02],\n",
              "       [9.51674469e-01, 4.83255306e-02],\n",
              "       [9.94575445e-01, 5.42455543e-03]])"
            ]
          },
          "metadata": {
            "tags": []
          },
          "execution_count": 29
        }
      ]
    },
    {
      "cell_type": "code",
      "metadata": {
        "colab": {
          "base_uri": "https://localhost:8080/"
        },
        "id": "9rPOWEGx2S7E",
        "outputId": "7ae61fee-45c7-4f3e-a2be-6bbd489602e6"
      },
      "source": [
        "confusion_matrix(y_test, y_pred)"
      ],
      "execution_count": null,
      "outputs": [
        {
          "output_type": "execute_result",
          "data": {
            "text/plain": [
              "array([[242,   1],\n",
              "       [ 14,   1]])"
            ]
          },
          "metadata": {
            "tags": []
          },
          "execution_count": 30
        }
      ]
    },
    {
      "cell_type": "markdown",
      "metadata": {
        "id": "jEeRjigm2iJI"
      },
      "source": [
        "The diagonals are basically the total number of correct predictions and as we can see that for the false class 242 predictions were correct and for the true class only one prediction was correct, in the actual distribution, we had 243 false values and 15 true values, so we can see that out of 243 false values our model has correctly categorised 242 values, but out of 15 true values it was able to correctly classify only 1 value, so this is not a good model. "
      ]
    },
    {
      "cell_type": "code",
      "metadata": {
        "id": "pPC5FbHn2fJt",
        "colab": {
          "base_uri": "https://localhost:8080/"
        },
        "outputId": "545957d8-6e87-4d39-a111-85e230619258"
      },
      "source": [
        "precision_recall_fscore_support(y_test, y_pred)"
      ],
      "execution_count": null,
      "outputs": [
        {
          "output_type": "execute_result",
          "data": {
            "text/plain": [
              "(array([0.9453125, 0.5      ]),\n",
              " array([0.99588477, 0.06666667]),\n",
              " array([0.96993988, 0.11764706]),\n",
              " array([243,  15]))"
            ]
          },
          "metadata": {
            "tags": []
          },
          "execution_count": 31
        }
      ]
    },
    {
      "cell_type": "markdown",
      "metadata": {
        "id": "RkPVoFvI_B2x"
      },
      "source": [
        "Look at the second value(0.5), basically what these values are wrt the two classes<br>\n",
        "\n",
        "- 0.9453125 is the precision for class false\n",
        "- 0.5 is the precision for class true\n",
        "- 0.99588477 is the recall for class false\n",
        "- 0.06666667 is the recall for class true\n",
        "- 0.96993988 is the fscore for class false\n",
        "- 0.11764706 is the fscore for class true\n",
        "\n",
        "So we can again see in this case, that all the values corresponding to the value true are low and hence we need a better model."
      ]
    },
    {
      "cell_type": "markdown",
      "metadata": {
        "id": "57pyDBjLN-Fx"
      },
      "source": [
        "Now that we created our first basic model, we need to improve it or finetune it"
      ]
    },
    {
      "cell_type": "markdown",
      "metadata": {
        "id": "qDcu8WslDR5B"
      },
      "source": [
        "## Fine Tuning the model"
      ]
    },
    {
      "cell_type": "markdown",
      "metadata": {
        "id": "dv0VydkpOIXx"
      },
      "source": [
        "Now what we try to do is we will try to modify the logistic regression algorithm in such a way that the model penalises more when the class true predictions are wrong, basically if we go back and check<br>\n",
        "array([[242,   1],<br>\n",
        "       [ 14,   1]])<br>\n",
        "\n",
        "Here, out of 15, 14 predictions were wrong, so what will happen is that for these cases the model will be penalised more and hence what it will do is that it will start learning ways to classify the class true correctly and we do it using the weight parameter of the logistic regression function  "
      ]
    },
    {
      "cell_type": "markdown",
      "metadata": {
        "id": "09yA7XLyzkik"
      },
      "source": [
        "We'll make a logistic regression model and we'll use the class weight method, basically what we want the weight of the classes to be, here we want the class 0 or class false to have a lesser weight and the class 1 or the class true to have a higher weight because class true is the one that is getting wrongly classified, so the weights are usually selected as the inverse of the actual class distribution of the training dataset. It means that in the training dataset, if the distribution is 93:7 for class 0 and class 1, while giving weight, class 0 (majority class) will get a weight of 7 or 0.07 and the minority class or the class true will get the weight of the majority class percentage or 0.93."
      ]
    },
    {
      "cell_type": "markdown",
      "metadata": {
        "id": "_oKfY-ugQ5J_"
      },
      "source": [
        "## Model 2"
      ]
    },
    {
      "cell_type": "code",
      "metadata": {
        "id": "qsds3sqW-_M3"
      },
      "source": [
        "model2 = LogisticRegression(class_weight={0:7, 1:93})\n",
        "#class_weight={0:7, 1:93}, class 0 gets a weight of 7 and class 1 gets a weight of 93 i.e a higher percentage,    "
      ],
      "execution_count": null,
      "outputs": []
    },
    {
      "cell_type": "code",
      "metadata": {
        "colab": {
          "base_uri": "https://localhost:8080/"
        },
        "id": "77HMkFeL0Tte",
        "outputId": "a9284398-b67b-4080-a8c9-97845239aafd"
      },
      "source": [
        "model2.fit(x_train, y_train)"
      ],
      "execution_count": null,
      "outputs": [
        {
          "output_type": "execute_result",
          "data": {
            "text/plain": [
              "LogisticRegression(C=1.0, class_weight={0: 7, 1: 93}, dual=False,\n",
              "                   fit_intercept=True, intercept_scaling=1, l1_ratio=None,\n",
              "                   max_iter=100, multi_class='auto', n_jobs=None, penalty='l2',\n",
              "                   random_state=None, solver='lbfgs', tol=0.0001, verbose=0,\n",
              "                   warm_start=False)"
            ]
          },
          "metadata": {
            "tags": []
          },
          "execution_count": 33
        }
      ]
    },
    {
      "cell_type": "code",
      "metadata": {
        "id": "xbfsg9XCRAUO"
      },
      "source": [
        "dump(model2, open('model_logreg.pkl','wb'))"
      ],
      "execution_count": null,
      "outputs": []
    },
    {
      "cell_type": "code",
      "metadata": {
        "id": "bkz0oSsX0bc1"
      },
      "source": [
        "y_pred = model2.predict(x_test)"
      ],
      "execution_count": null,
      "outputs": []
    },
    {
      "cell_type": "code",
      "metadata": {
        "colab": {
          "base_uri": "https://localhost:8080/"
        },
        "id": "i74Im7trS0W3",
        "outputId": "bcaeca29-f398-4e41-a18f-5954b5e296ac"
      },
      "source": [
        "x_test.shape"
      ],
      "execution_count": null,
      "outputs": [
        {
          "output_type": "execute_result",
          "data": {
            "text/plain": [
              "(258, 28)"
            ]
          },
          "metadata": {
            "tags": []
          },
          "execution_count": 46
        }
      ]
    },
    {
      "cell_type": "code",
      "metadata": {
        "colab": {
          "base_uri": "https://localhost:8080/"
        },
        "id": "c0k1ektH0iYl",
        "outputId": "80d6dc75-52d8-4ea9-8b90-3d0685447218"
      },
      "source": [
        "y_pred"
      ],
      "execution_count": null,
      "outputs": [
        {
          "output_type": "execute_result",
          "data": {
            "text/plain": [
              "array([False, False,  True, False, False,  True, False, False, False,\n",
              "       False, False, False,  True,  True,  True, False, False, False,\n",
              "       False, False, False, False, False, False, False, False, False,\n",
              "       False, False,  True, False,  True, False, False, False, False,\n",
              "       False,  True, False,  True, False, False, False, False, False,\n",
              "       False, False, False, False,  True,  True, False, False,  True,\n",
              "       False, False,  True, False, False,  True, False, False,  True,\n",
              "       False, False, False, False, False, False, False,  True, False,\n",
              "       False, False, False,  True, False, False,  True,  True, False,\n",
              "       False, False, False,  True, False, False,  True, False, False,\n",
              "       False, False, False,  True,  True,  True, False,  True, False,\n",
              "       False, False, False, False,  True,  True, False, False, False,\n",
              "       False, False, False, False, False, False, False, False, False,\n",
              "       False, False, False, False, False, False, False, False, False,\n",
              "       False,  True, False, False,  True, False,  True, False, False,\n",
              "       False,  True, False, False, False, False, False,  True,  True,\n",
              "        True,  True, False, False, False, False, False, False,  True,\n",
              "       False, False, False, False,  True, False, False, False, False,\n",
              "       False, False, False,  True, False,  True, False, False, False,\n",
              "       False, False, False, False, False,  True, False, False,  True,\n",
              "       False, False, False, False, False, False, False, False, False,\n",
              "       False, False, False, False, False, False, False, False,  True,\n",
              "        True, False, False, False, False,  True, False, False,  True,\n",
              "       False,  True, False, False, False, False, False, False, False,\n",
              "       False, False, False, False, False, False, False, False, False,\n",
              "        True, False, False, False, False, False, False, False, False,\n",
              "       False, False, False, False, False, False, False, False, False,\n",
              "       False, False, False,  True, False,  True, False, False,  True,\n",
              "        True, False, False, False, False, False])"
            ]
          },
          "metadata": {
            "tags": []
          },
          "execution_count": 35
        }
      ]
    },
    {
      "cell_type": "code",
      "metadata": {
        "colab": {
          "base_uri": "https://localhost:8080/"
        },
        "id": "OQ7gxxk_0lQF",
        "outputId": "5062e39e-e0fd-4a57-e2f2-8219b12d5d8c"
      },
      "source": [
        "model2.predict_proba(x_test)"
      ],
      "execution_count": null,
      "outputs": [
        {
          "output_type": "execute_result",
          "data": {
            "text/plain": [
              "array([[6.71648394e-01, 3.28351606e-01],\n",
              "       [6.18051891e-01, 3.81948109e-01],\n",
              "       [4.31603178e-01, 5.68396822e-01],\n",
              "       [6.08560642e-01, 3.91439358e-01],\n",
              "       [7.44523083e-01, 2.55476917e-01],\n",
              "       [3.14145368e-01, 6.85854632e-01],\n",
              "       [6.63407123e-01, 3.36592877e-01],\n",
              "       [6.84600581e-01, 3.15399419e-01],\n",
              "       [5.55723107e-01, 4.44276893e-01],\n",
              "       [9.99811039e-01, 1.88960537e-04],\n",
              "       [6.75730984e-01, 3.24269016e-01],\n",
              "       [6.30816731e-01, 3.69183269e-01],\n",
              "       [4.46451707e-01, 5.53548293e-01],\n",
              "       [3.12663028e-01, 6.87336972e-01],\n",
              "       [3.83502742e-01, 6.16497258e-01],\n",
              "       [5.32821609e-01, 4.67178391e-01],\n",
              "       [6.50972864e-01, 3.49027136e-01],\n",
              "       [6.36749769e-01, 3.63250231e-01],\n",
              "       [6.73861164e-01, 3.26138836e-01],\n",
              "       [6.16590717e-01, 3.83409283e-01],\n",
              "       [6.54741669e-01, 3.45258331e-01],\n",
              "       [9.21109299e-01, 7.88907012e-02],\n",
              "       [9.04977782e-01, 9.50222181e-02],\n",
              "       [5.19198015e-01, 4.80801985e-01],\n",
              "       [5.68266191e-01, 4.31733809e-01],\n",
              "       [5.84215400e-01, 4.15784600e-01],\n",
              "       [7.31101083e-01, 2.68898917e-01],\n",
              "       [6.61708192e-01, 3.38291808e-01],\n",
              "       [5.76934339e-01, 4.23065661e-01],\n",
              "       [3.95195590e-01, 6.04804410e-01],\n",
              "       [6.21116984e-01, 3.78883016e-01],\n",
              "       [4.48626931e-01, 5.51373069e-01],\n",
              "       [7.15978612e-01, 2.84021388e-01],\n",
              "       [6.10641854e-01, 3.89358146e-01],\n",
              "       [9.61697972e-01, 3.83020275e-02],\n",
              "       [8.71393851e-01, 1.28606149e-01],\n",
              "       [7.47161962e-01, 2.52838038e-01],\n",
              "       [3.99562984e-01, 6.00437016e-01],\n",
              "       [5.33194151e-01, 4.66805849e-01],\n",
              "       [3.06145673e-01, 6.93854327e-01],\n",
              "       [5.13846331e-01, 4.86153669e-01],\n",
              "       [6.46225815e-01, 3.53774185e-01],\n",
              "       [5.02814698e-01, 4.97185302e-01],\n",
              "       [9.35860293e-01, 6.41397069e-02],\n",
              "       [5.94426302e-01, 4.05573698e-01],\n",
              "       [7.66980039e-01, 2.33019961e-01],\n",
              "       [6.68176155e-01, 3.31823845e-01],\n",
              "       [7.22519102e-01, 2.77480898e-01],\n",
              "       [5.49886297e-01, 4.50113703e-01],\n",
              "       [3.34693197e-01, 6.65306803e-01],\n",
              "       [4.43150531e-01, 5.56849469e-01],\n",
              "       [6.28052956e-01, 3.71947044e-01],\n",
              "       [9.30112188e-01, 6.98878123e-02],\n",
              "       [4.67591329e-01, 5.32408671e-01],\n",
              "       [6.83834916e-01, 3.16165084e-01],\n",
              "       [6.61387638e-01, 3.38612362e-01],\n",
              "       [4.63823395e-01, 5.36176605e-01],\n",
              "       [5.60738868e-01, 4.39261132e-01],\n",
              "       [5.91859228e-01, 4.08140772e-01],\n",
              "       [8.46120974e-02, 9.15387903e-01],\n",
              "       [5.87335507e-01, 4.12664493e-01],\n",
              "       [6.02478882e-01, 3.97521118e-01],\n",
              "       [2.47627328e-01, 7.52372672e-01],\n",
              "       [5.91282462e-01, 4.08717538e-01],\n",
              "       [5.86931338e-01, 4.13068662e-01],\n",
              "       [6.42244142e-01, 3.57755858e-01],\n",
              "       [8.95255435e-01, 1.04744565e-01],\n",
              "       [6.15649423e-01, 3.84350577e-01],\n",
              "       [6.85797948e-01, 3.14202052e-01],\n",
              "       [6.76394827e-01, 3.23605173e-01],\n",
              "       [1.12316475e-01, 8.87683525e-01],\n",
              "       [6.68531167e-01, 3.31468833e-01],\n",
              "       [5.80350900e-01, 4.19649100e-01],\n",
              "       [6.02093873e-01, 3.97906127e-01],\n",
              "       [6.63497195e-01, 3.36502805e-01],\n",
              "       [1.72192478e-01, 8.27807522e-01],\n",
              "       [5.57214229e-01, 4.42785771e-01],\n",
              "       [9.72255147e-01, 2.77448535e-02],\n",
              "       [2.08094649e-02, 9.79190535e-01],\n",
              "       [7.31072717e-02, 9.26892728e-01],\n",
              "       [5.54494625e-01, 4.45505375e-01],\n",
              "       [9.18656524e-01, 8.13434760e-02],\n",
              "       [9.97217332e-01, 2.78266774e-03],\n",
              "       [6.19219492e-01, 3.80780508e-01],\n",
              "       [3.39180076e-01, 6.60819924e-01],\n",
              "       [8.76217478e-01, 1.23782522e-01],\n",
              "       [9.98888542e-01, 1.11145805e-03],\n",
              "       [2.51320905e-01, 7.48679095e-01],\n",
              "       [6.57851814e-01, 3.42148186e-01],\n",
              "       [6.08542624e-01, 3.91457376e-01],\n",
              "       [6.31993644e-01, 3.68006356e-01],\n",
              "       [7.00708965e-01, 2.99291035e-01],\n",
              "       [9.47889749e-01, 5.21102515e-02],\n",
              "       [3.11407098e-01, 6.88592902e-01],\n",
              "       [2.66104355e-01, 7.33895645e-01],\n",
              "       [4.62729504e-01, 5.37270496e-01],\n",
              "       [7.58537188e-01, 2.41462812e-01],\n",
              "       [3.53054905e-01, 6.46945095e-01],\n",
              "       [6.16180462e-01, 3.83819538e-01],\n",
              "       [6.22921936e-01, 3.77078064e-01],\n",
              "       [6.82471973e-01, 3.17528027e-01],\n",
              "       [5.31230401e-01, 4.68769599e-01],\n",
              "       [6.59782650e-01, 3.40217350e-01],\n",
              "       [1.46420737e-01, 8.53579263e-01],\n",
              "       [4.69585517e-01, 5.30414483e-01],\n",
              "       [8.37881503e-01, 1.62118497e-01],\n",
              "       [7.05734986e-01, 2.94265014e-01],\n",
              "       [6.99692008e-01, 3.00307992e-01],\n",
              "       [8.00989806e-01, 1.99010194e-01],\n",
              "       [6.53276810e-01, 3.46723190e-01],\n",
              "       [5.00393288e-01, 4.99606712e-01],\n",
              "       [6.31735038e-01, 3.68264962e-01],\n",
              "       [6.27313845e-01, 3.72686155e-01],\n",
              "       [9.29996737e-01, 7.00032632e-02],\n",
              "       [9.42898471e-01, 5.71015286e-02],\n",
              "       [5.35305417e-01, 4.64694583e-01],\n",
              "       [6.04007087e-01, 3.95992913e-01],\n",
              "       [5.75209927e-01, 4.24790073e-01],\n",
              "       [7.53431458e-01, 2.46568542e-01],\n",
              "       [5.75840969e-01, 4.24159031e-01],\n",
              "       [6.85287819e-01, 3.14712181e-01],\n",
              "       [9.72713022e-01, 2.72869776e-02],\n",
              "       [6.65770283e-01, 3.34229717e-01],\n",
              "       [6.64652206e-01, 3.35347794e-01],\n",
              "       [9.39828906e-01, 6.01710935e-02],\n",
              "       [6.30689054e-01, 3.69310946e-01],\n",
              "       [6.83111630e-01, 3.16888370e-01],\n",
              "       [2.51151261e-01, 7.48848739e-01],\n",
              "       [7.90034836e-01, 2.09965164e-01],\n",
              "       [9.35946177e-01, 6.40538233e-02],\n",
              "       [4.63547275e-01, 5.36452725e-01],\n",
              "       [6.07960235e-01, 3.92039765e-01],\n",
              "       [3.22609607e-01, 6.77390393e-01],\n",
              "       [6.26306736e-01, 3.73693264e-01],\n",
              "       [6.54094111e-01, 3.45905889e-01],\n",
              "       [5.03659682e-01, 4.96340318e-01],\n",
              "       [1.48752662e-01, 8.51247338e-01],\n",
              "       [6.31957343e-01, 3.68042657e-01],\n",
              "       [6.70518018e-01, 3.29481982e-01],\n",
              "       [6.32074674e-01, 3.67925326e-01],\n",
              "       [6.39752273e-01, 3.60247727e-01],\n",
              "       [9.98514504e-01, 1.48549617e-03],\n",
              "       [4.86913179e-01, 5.13086821e-01],\n",
              "       [6.06506566e-03, 9.93934934e-01],\n",
              "       [4.76929779e-01, 5.23070221e-01],\n",
              "       [4.05369568e-01, 5.94630432e-01],\n",
              "       [7.08420898e-01, 2.91579102e-01],\n",
              "       [8.17659268e-01, 1.82340732e-01],\n",
              "       [6.20780010e-01, 3.79219990e-01],\n",
              "       [6.25053930e-01, 3.74946070e-01],\n",
              "       [6.62739627e-01, 3.37260373e-01],\n",
              "       [9.31551521e-01, 6.84484790e-02],\n",
              "       [2.58283757e-01, 7.41716243e-01],\n",
              "       [6.29482066e-01, 3.70517934e-01],\n",
              "       [5.23571039e-01, 4.76428961e-01],\n",
              "       [6.58745245e-01, 3.41254755e-01],\n",
              "       [6.46067114e-01, 3.53932886e-01],\n",
              "       [3.81242075e-01, 6.18757925e-01],\n",
              "       [6.69127742e-01, 3.30872258e-01],\n",
              "       [8.35078276e-01, 1.64921724e-01],\n",
              "       [7.21356965e-01, 2.78643035e-01],\n",
              "       [6.04866680e-01, 3.95133320e-01],\n",
              "       [7.75326686e-01, 2.24673314e-01],\n",
              "       [6.74415616e-01, 3.25584384e-01],\n",
              "       [6.71332581e-01, 3.28667419e-01],\n",
              "       [3.12912824e-01, 6.87087176e-01],\n",
              "       [8.92987800e-01, 1.07012200e-01],\n",
              "       [1.61816280e-01, 8.38183720e-01],\n",
              "       [6.12437997e-01, 3.87562003e-01],\n",
              "       [6.87295621e-01, 3.12704379e-01],\n",
              "       [6.67068256e-01, 3.32931744e-01],\n",
              "       [9.33475254e-01, 6.65247464e-02],\n",
              "       [7.65954584e-01, 2.34045416e-01],\n",
              "       [5.70692671e-01, 4.29307329e-01],\n",
              "       [6.43505582e-01, 3.56494418e-01],\n",
              "       [9.23564065e-01, 7.64359347e-02],\n",
              "       [3.11334316e-01, 6.88665684e-01],\n",
              "       [8.93342867e-01, 1.06657133e-01],\n",
              "       [5.71595832e-01, 4.28404168e-01],\n",
              "       [1.00263415e-01, 8.99736585e-01],\n",
              "       [6.67683611e-01, 3.32316389e-01],\n",
              "       [5.68169664e-01, 4.31830336e-01],\n",
              "       [5.56967590e-01, 4.43032410e-01],\n",
              "       [6.45901583e-01, 3.54098417e-01],\n",
              "       [6.68766457e-01, 3.31233543e-01],\n",
              "       [5.55842105e-01, 4.44157895e-01],\n",
              "       [6.53656137e-01, 3.46343863e-01],\n",
              "       [6.71978760e-01, 3.28021240e-01],\n",
              "       [7.08544268e-01, 2.91455732e-01],\n",
              "       [6.59669344e-01, 3.40330656e-01],\n",
              "       [9.17472130e-01, 8.25278698e-02],\n",
              "       [5.45865748e-01, 4.54134252e-01],\n",
              "       [5.08116564e-01, 4.91883436e-01],\n",
              "       [6.80970534e-01, 3.19029466e-01],\n",
              "       [7.49869731e-01, 2.50130269e-01],\n",
              "       [6.50252341e-01, 3.49747659e-01],\n",
              "       [6.14796949e-01, 3.85203051e-01],\n",
              "       [4.88183397e-01, 5.11816603e-01],\n",
              "       [4.92970617e-01, 5.07029383e-01],\n",
              "       [6.73951556e-01, 3.26048444e-01],\n",
              "       [5.93509748e-01, 4.06490252e-01],\n",
              "       [5.20606708e-01, 4.79393292e-01],\n",
              "       [6.52488540e-01, 3.47511460e-01],\n",
              "       [2.99730936e-01, 7.00269064e-01],\n",
              "       [5.95868065e-01, 4.04131935e-01],\n",
              "       [6.70230056e-01, 3.29769944e-01],\n",
              "       [4.71425847e-01, 5.28574153e-01],\n",
              "       [6.81034318e-01, 3.18965682e-01],\n",
              "       [4.05720167e-01, 5.94279833e-01],\n",
              "       [9.36995752e-01, 6.30042480e-02],\n",
              "       [6.28796298e-01, 3.71203702e-01],\n",
              "       [6.41308878e-01, 3.58691122e-01],\n",
              "       [5.66491406e-01, 4.33508594e-01],\n",
              "       [9.28527218e-01, 7.14727820e-02],\n",
              "       [6.34609468e-01, 3.65390532e-01],\n",
              "       [6.62450731e-01, 3.37549269e-01],\n",
              "       [6.46050626e-01, 3.53949374e-01],\n",
              "       [9.99049357e-01, 9.50642746e-04],\n",
              "       [5.49399462e-01, 4.50600538e-01],\n",
              "       [5.68444161e-01, 4.31555839e-01],\n",
              "       [6.61106286e-01, 3.38893714e-01],\n",
              "       [6.60818112e-01, 3.39181888e-01],\n",
              "       [5.91282462e-01, 4.08717538e-01],\n",
              "       [5.69652945e-01, 4.30347055e-01],\n",
              "       [6.14796949e-01, 3.85203051e-01],\n",
              "       [2.67636122e-01, 7.32363878e-01],\n",
              "       [6.65739322e-01, 3.34260678e-01],\n",
              "       [6.57359826e-01, 3.42640174e-01],\n",
              "       [6.88339373e-01, 3.11660627e-01],\n",
              "       [5.65575280e-01, 4.34424720e-01],\n",
              "       [6.51877513e-01, 3.48122487e-01],\n",
              "       [7.39211520e-01, 2.60788480e-01],\n",
              "       [9.81089023e-01, 1.89109771e-02],\n",
              "       [6.99230238e-01, 3.00769762e-01],\n",
              "       [8.29049804e-01, 1.70950196e-01],\n",
              "       [6.05707282e-01, 3.94292718e-01],\n",
              "       [9.47812621e-01, 5.21873787e-02],\n",
              "       [7.94720372e-01, 2.05279628e-01],\n",
              "       [5.82972807e-01, 4.17027193e-01],\n",
              "       [5.95609190e-01, 4.04390810e-01],\n",
              "       [6.47387320e-01, 3.52612680e-01],\n",
              "       [6.63407123e-01, 3.36592877e-01],\n",
              "       [6.99402505e-01, 3.00597495e-01],\n",
              "       [5.45113297e-01, 4.54886703e-01],\n",
              "       [5.88090125e-01, 4.11909875e-01],\n",
              "       [5.97802587e-01, 4.02197413e-01],\n",
              "       [2.81552088e-01, 7.18447912e-01],\n",
              "       [6.82537258e-01, 3.17462742e-01],\n",
              "       [7.57138900e-02, 9.24286110e-01],\n",
              "       [7.17564659e-01, 2.82435341e-01],\n",
              "       [6.20697985e-01, 3.79302015e-01],\n",
              "       [3.23827698e-01, 6.76172302e-01],\n",
              "       [4.06433238e-01, 5.93566762e-01],\n",
              "       [5.76257733e-01, 4.23742267e-01],\n",
              "       [9.40257197e-01, 5.97428028e-02],\n",
              "       [6.71919712e-01, 3.28080288e-01],\n",
              "       [6.65848077e-01, 3.34151923e-01],\n",
              "       [9.72489116e-01, 2.75108838e-02]])"
            ]
          },
          "metadata": {
            "tags": []
          },
          "execution_count": 36
        }
      ]
    },
    {
      "cell_type": "code",
      "metadata": {
        "colab": {
          "base_uri": "https://localhost:8080/"
        },
        "id": "E1_8xCVn0sgV",
        "outputId": "e8d82dd1-0d39-4892-90fe-fd4be92b15ea"
      },
      "source": [
        "confusion_matrix(y_test, y_pred)"
      ],
      "execution_count": null,
      "outputs": [
        {
          "output_type": "execute_result",
          "data": {
            "text/plain": [
              "array([[199,  44],\n",
              "       [  8,   7]])"
            ]
          },
          "metadata": {
            "tags": []
          },
          "execution_count": 37
        }
      ]
    },
    {
      "cell_type": "markdown",
      "metadata": {
        "id": "fPlLpvu01D5b"
      },
      "source": [
        "Previously we had 242 correct predictions for class 0, now it has reduced to 199, but for class 1(class true) initially there was only 1 correct prediction, but now there are 7, so it has basically increased 7 times. There are some incorrect predictions also in class 0, for example there are 44 false values which have been incorrectly predicted as true, so what we can see from here is that {0:7, 1:93} is not the most optimum class weight, we will again have to try different weights maybe 10 and 90, etc, its basically trial and error "
      ]
    },
    {
      "cell_type": "code",
      "metadata": {
        "colab": {
          "base_uri": "https://localhost:8080/"
        },
        "id": "HQMUN-h5046l",
        "outputId": "5209f92c-727b-48b5-917f-04b6777f9f04"
      },
      "source": [
        "precision_recall_fscore_support(y_test, y_pred)"
      ],
      "execution_count": null,
      "outputs": [
        {
          "output_type": "execute_result",
          "data": {
            "text/plain": [
              "(array([0.96135266, 0.1372549 ]),\n",
              " array([0.81893004, 0.46666667]),\n",
              " array([0.88444444, 0.21212121]),\n",
              " array([243,  15]))"
            ]
          },
          "metadata": {
            "tags": []
          },
          "execution_count": 38
        }
      ]
    },
    {
      "cell_type": "markdown",
      "metadata": {
        "id": "kcpQyX5UAI-W"
      },
      "source": [
        "Compared to the previous case, there is a considerable increase in the score for class true, for the class true, the precision is 0.1372549, recall is 0.46666667 and fscore is 0.21212121, so there is still scope for more improvement, but now we have been able to improve our first model which offered no classification at all. Wecan now try different ways to improve it further, change the scaler, try out min max scaler, etc. "
      ]
    },
    {
      "cell_type": "code",
      "metadata": {
        "id": "MS20v8Jh0_D9"
      },
      "source": [
        ""
      ],
      "execution_count": null,
      "outputs": []
    }
  ]
}